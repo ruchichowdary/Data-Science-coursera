{
  "metadata": {
    "kernelspec": {
      "name": "",
      "display_name": ""
    },
    "language_info": {
      "name": ""
    }
  },
  "nbformat_minor": 4,
  "nbformat": 4,
  "cells": [
    {
      "cell_type": "markdown",
      "source": "Grading Criteria Overview",
      "metadata": {}
    },
    {
      "cell_type": "markdown",
      "source": "This is the Introduction Cell",
      "metadata": {}
    },
    {
      "cell_type": "markdown",
      "source": "All the Data Science Languages include:\nPython\nR\nJava ",
      "metadata": {}
    },
    {
      "cell_type": "markdown",
      "source": "All the Data Science Libraries Include:\nScikit-learn\nTensorflow\nPytorch",
      "metadata": {}
    },
    {
      "cell_type": "markdown",
      "source": "All the Data Science Tools Include:\nJupter Notebook\nRstudio\nWatson Studio",
      "metadata": {}
    },
    {
      "cell_type": "markdown",
      "source": "Arithmetic expressions:\n+\n-\n*\n/",
      "metadata": {}
    },
    {
      "cell_type": "code",
      "source": "a+b\na*b",
      "metadata": {
        "trusted": true
      },
      "outputs": [],
      "execution_count": null
    },
    {
      "cell_type": "code",
      "source": "min=hours/60",
      "metadata": {
        "trusted": true
      },
      "outputs": [],
      "execution_count": null
    },
    {
      "cell_type": "markdown",
      "source": "Objectives:\nLearn Data science",
      "metadata": {}
    },
    {
      "cell_type": "markdown",
      "source": "Ruchitha Chowdary Bellam",
      "metadata": {}
    },
    {
      "cell_type": "code",
      "source": "",
      "metadata": {
        "trusted": true
      },
      "outputs": [],
      "execution_count": null
    },
    {
      "cell_type": "code",
      "source": "",
      "metadata": {
        "trusted": true
      },
      "outputs": [],
      "execution_count": null
    }
  ]
}